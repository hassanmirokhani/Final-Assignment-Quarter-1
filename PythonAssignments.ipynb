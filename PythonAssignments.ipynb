{
 "cells": [
  {
   "cell_type": "markdown",
   "metadata": {},
   "source": [
    "# AREA OF CIRCLE\n"
   ]
  },
  {
   "cell_type": "code",
   "execution_count": 1,
   "metadata": {},
   "outputs": [
    {
     "name": "stdout",
     "output_type": "stream",
     "text": [
      "0.78625\n"
     ]
    }
   ],
   "source": [
    "r = 0.5 \n",
    "area = 3.145*r*r\n",
    "print(area)"
   ]
  },
  {
   "cell_type": "markdown",
   "metadata": {},
   "source": [
    "# CHECKING NUMBER POSITIVE, NEGATIVE OR ZERO"
   ]
  },
  {
   "cell_type": "code",
   "execution_count": 14,
   "metadata": {},
   "outputs": [
    {
     "name": "stdout",
     "output_type": "stream",
     "text": [
      "Enter Number2\n",
      "Positive Number Entered\n"
     ]
    }
   ],
   "source": [
    "a = int(input(\"Enter Number\"))\n",
    "if a > 0:\n",
    "   print(\"Positive Number Entered\")\n",
    "elif a < 0:\n",
    "    print(\"Negative Number Entered\")\n",
    "else :\n",
    "    print(\"Zero Entered\")"
   ]
  },
  {
   "cell_type": "markdown",
   "metadata": {},
   "source": [
    "# DIVISIBILTY CHECK OF TWO NUMBERS"
   ]
  },
  {
   "cell_type": "code",
   "execution_count": 18,
   "metadata": {},
   "outputs": [
    {
     "name": "stdout",
     "output_type": "stream",
     "text": [
      "Enter Numerator3\n",
      "Enter Denomerator2\n",
      "Number 3 Is Not Completely Divisible By 2\n"
     ]
    }
   ],
   "source": [
    "a = int(input(\"Enter Numerator\"))\n",
    "b = int(input(\"Enter Denomerator\"))\n",
    "c = a % b \n",
    "if c == 0:\n",
    "    print(\"Number\",a,\"Is Completely Divisble By \",b)\n",
    "else :\n",
    "    print(\"Number\",a,\"Is Not Completely Divisible By\",b)\n",
    "    \n",
    "   "
   ]
  },
  {
   "cell_type": "markdown",
   "metadata": {},
   "source": [
    "# DAYS CALCULATOR"
   ]
  },
  {
   "cell_type": "code",
   "execution_count": 2,
   "metadata": {},
   "outputs": [
    {
     "name": "stdout",
     "output_type": "stream",
     "text": [
      "Enter Date In Format dd/mm/yy: 12/12/2012\n",
      "Enter Date In Format dd/mm/yy: 6/6/2006\n",
      "There are -2381 days between 2012-12-12 00:00:00 and 2006-06-06 00:00:00.\n"
     ]
    }
   ],
   "source": [
    "import datetime\n",
    "\n",
    "s=datetime.datetime.strptime(input('Enter Date In Format dd/mm/yy: '), '%m/%d/%Y')\n",
    "e=datetime.datetime.strptime(input('Enter Date In Format dd/mm/yy: '), '%m/%d/%Y')\n",
    "remaindDays=e-s\n",
    "print(f\"There are {remaindDays.days} days between {s} and {e}.\")"
   ]
  },
  {
   "cell_type": "markdown",
   "metadata": {},
   "source": [
    "# CALCULATE VOLUME OF A SPHERE"
   ]
  },
  {
   "cell_type": "code",
   "execution_count": 3,
   "metadata": {},
   "outputs": [
    {
     "name": "stdout",
     "output_type": "stream",
     "text": [
      "Enter Radius Of A Sphere1\n",
      "Volume Of Sphere With Radius 1 Is 4.1866666666666665\n"
     ]
    }
   ],
   "source": [
    "r = int(input(\"Enter Radius Of A Sphere\"))\n",
    "v = 4/3*3.14*r*r*r\n",
    "print(\"Volume Of Sphere With Radius\",r,\"Is\",v)"
   ]
  },
  {
   "cell_type": "markdown",
   "metadata": {},
   "source": [
    "# COPY STRING \"n\" TIMES"
   ]
  },
  {
   "cell_type": "code",
   "execution_count": 4,
   "metadata": {},
   "outputs": [
    {
     "name": "stdout",
     "output_type": "stream",
     "text": [
      "Enter StringFlag\n",
      "How Many Copies Of String You Need: 3\n",
      "3  Copies Of Flag Are FlagFlagFlag\n"
     ]
    }
   ],
   "source": [
    "s = input(\"Enter String\")\n",
    "a = int(input(\"How Many Copies Of String You Need: \"))\n",
    "print(a,\" Copies Of\",s,\"Are\",a*s)\n",
    "              "
   ]
  },
  {
   "cell_type": "markdown",
   "metadata": {},
   "source": [
    "# CHECK IF NUMBER IS EVEN OR ODD"
   ]
  },
  {
   "cell_type": "code",
   "execution_count": 5,
   "metadata": {},
   "outputs": [
    {
     "name": "stdout",
     "output_type": "stream",
     "text": [
      "Enter Number5\n",
      "5 Is Odd\n"
     ]
    }
   ],
   "source": [
    "a = int(input(\"Enter Number\"))\n",
    "if  a%2 == 0:\n",
    "    print(a,\"Is Even\")\n",
    "else:\n",
    "    print(a,\"Is Odd\")"
   ]
  },
  {
   "cell_type": "markdown",
   "metadata": {},
   "source": [
    "# VOWEL TESTER"
   ]
  },
  {
   "cell_type": "code",
   "execution_count": 8,
   "metadata": {},
   "outputs": [
    {
     "name": "stdout",
     "output_type": "stream",
     "text": [
      "Enter A Character P\n",
      "Letter P Is Not Vowel\n"
     ]
    }
   ],
   "source": [
    "a = input(\"Enter A Character \")\n",
    "if a == 'A' or a== 'a' or a == 'E' or a == 'e' or a == 'i' or a == 'I' or a == 'O' or a == 'o' or a == 'u' or a== 'U':\n",
    "    print(\"Letter\",a,\"Is Vowel\")\n",
    "else:\n",
    "    print(\"Letter\",a,\"Is Not Vowel\")"
   ]
  },
  {
   "cell_type": "markdown",
   "metadata": {},
   "source": [
    "# TRIANGLE AREA"
   ]
  },
  {
   "cell_type": "code",
   "execution_count": 9,
   "metadata": {},
   "outputs": [
    {
     "name": "stdout",
     "output_type": "stream",
     "text": [
      "Enter Magnitude Of Triangle Base: 4\n",
      "Enter Magnitude Of Triangle Height: 4\n",
      "Area Of A Triangle With Height 4 And Base 4 Is 8.0\n"
     ]
    }
   ],
   "source": [
    "b = int(input(\"Enter Magnitude Of Triangle Base: \"))\n",
    "l = int(input(\"Enter Magnitude Of Triangle Height: \"))\n",
    "print(\"Area Of A Triangle With Height\",l,\"And Base\",b,\"Is\",0.5*b*l)"
   ]
  },
  {
   "cell_type": "markdown",
   "metadata": {},
   "source": [
    "# CALCULATE INTEREST"
   ]
  },
  {
   "cell_type": "code",
   "execution_count": 11,
   "metadata": {},
   "outputs": [
    {
     "name": "stdout",
     "output_type": "stream",
     "text": [
      "Please Enter Principal Amount: 10000\n",
      "Please Enter Rate Of Interest In %: 0.1\n",
      "Please Enter Number Of Years For Investment: 5\n",
      "After 5 Years Your Principal Amount Of 10000 Over An Interest Of 0.1 Will Be 10050.0\n"
     ]
    }
   ],
   "source": [
    "p = int(input(\"Please Enter Principal Amount: \"))\n",
    "i = float(input(\"Please Enter Rate Of Interest In %: \"))\n",
    "r = int(input(\"Please Enter Number Of Years For Investment: \"))\n",
    "print(\"After\",r,\"Years Your Principal Amount Of\",p,\"Over An Interest Of\",i,\"Will Be\",p*i/100*r+p)"
   ]
  },
  {
   "cell_type": "markdown",
   "metadata": {},
   "source": [
    "# EUCLIDEAN DISTANCE"
   ]
  },
  {
   "cell_type": "code",
   "execution_count": 1,
   "metadata": {},
   "outputs": [
    {
     "name": "stdout",
     "output_type": "stream",
     "text": [
      "Enter Co-ordinate For x1: 2\n",
      "Enter Co-ordinate For y1: 4\n",
      "Enter Co-ordinate For x2: 4\n",
      "Enter Co-ordinate For y2: 4\n",
      "Distance Between Points ( 2.0 , 4.0 ) and ( 4.0 , 4.0 ) Is 2.0\n"
     ]
    }
   ],
   "source": [
    "a = float(input(\"Enter Co-ordinate For x1: \"))\n",
    "b = float(input(\"Enter Co-ordinate For y1: \"))\n",
    "c = float(input(\"Enter Co-ordinate For x2: \"))\n",
    "d = float(input(\"Enter Co-ordinate For y2: \"))\n",
    "e = pow(pow((a-c),2)+pow((b-d),2),0.5)\n",
    "print(\"Distance Between Points (\",a,\",\",b,\") and (\",c,\",\",d,\") Is\",e)"
   ]
  },
  {
   "cell_type": "markdown",
   "metadata": {},
   "source": [
    "# FEET TO CENTIMETER CONVERTER"
   ]
  },
  {
   "cell_type": "code",
   "execution_count": 5,
   "metadata": {},
   "outputs": [
    {
     "name": "stdout",
     "output_type": "stream",
     "text": [
      "Enter Height In Feet: 5\n",
      "There Are 152.4 cm In 5.0 feet\n"
     ]
    }
   ],
   "source": [
    "f = float(input(\"Enter Height In Feet: \"))\n",
    "print(\"There Are\",30.48*f,\"cm In\",f,\"feet\")"
   ]
  },
  {
   "cell_type": "markdown",
   "metadata": {},
   "source": [
    "# BMI CALCULATOR"
   ]
  },
  {
   "cell_type": "code",
   "execution_count": 4,
   "metadata": {},
   "outputs": [
    {
     "name": "stdout",
     "output_type": "stream",
     "text": [
      "Enter Height In cm: 180\n",
      "Enter Weight In kg: 75\n",
      "Your BMI Is 23.148148148148145\n"
     ]
    }
   ],
   "source": [
    "h = float(input(\"Enter Height In cm: \"))\n",
    "w = float(input(\"Enter Weight In kg: \"))\n",
    "print(\"Your BMI Is\",w/pow(h/100,2))"
   ]
  },
  {
   "cell_type": "markdown",
   "metadata": {},
   "source": [
    "# SUM OF 'n' POSITIVE  INTEGERS"
   ]
  },
  {
   "cell_type": "code",
   "execution_count": 6,
   "metadata": {},
   "outputs": [
    {
     "name": "stdout",
     "output_type": "stream",
     "text": [
      "Enter Value Of n: 5\n",
      "Sum Of n Positive Integers Till 5 Is 15\n"
     ]
    }
   ],
   "source": [
    "f = int(input(\"Enter Value Of n: \"))\n",
    "e = 0\n",
    "for g in range(0,f+1,1):\n",
    "    e = e+g\n",
    "    \n",
    "print(\"Sum Of n Positive Integers Till\",f,\"Is\",e)\n",
    "    "
   ]
  },
  {
   "cell_type": "markdown",
   "metadata": {},
   "source": [
    "# DIGITS SUM OF A NUMBER"
   ]
  },
  {
   "cell_type": "code",
   "execution_count": 11,
   "metadata": {},
   "outputs": [
    {
     "name": "stdout",
     "output_type": "stream",
     "text": [
      "Enter A Number: 15\n",
      "Digital Sum:  6\n"
     ]
    }
   ],
   "source": [
    "a = input(\"Enter A Number: \")\n",
    "l = []\n",
    "for e in a:\n",
    "    l.append(int(e))\n",
    "print(\"Digital Sum: \",sum(l))\n"
   ]
  },
  {
   "cell_type": "markdown",
   "metadata": {},
   "source": [
    "# DECIMAL TO BINARY CONVERTER"
   ]
  },
  {
   "cell_type": "code",
   "execution_count": 8,
   "metadata": {},
   "outputs": [
    {
     "name": "stdout",
     "output_type": "stream",
     "text": [
      "Enter A Decimal Number: 5\n",
      "Binary Reputation Of 5 Is:  0b101\n"
     ]
    }
   ],
   "source": [
    "b = int(input(\"Enter A Decimal Number: \"))\n",
    "print(\"Binary Reputation Of\",b,\"Is: \",bin(b))\n"
   ]
  },
  {
   "cell_type": "markdown",
   "metadata": {},
   "source": [
    "# BINARY TO DECIMAL CONVERTER"
   ]
  },
  {
   "cell_type": "code",
   "execution_count": 15,
   "metadata": {},
   "outputs": [
    {
     "name": "stdout",
     "output_type": "stream",
     "text": [
      "Enter A Binary Number: 1101\n",
      "Decimal Reputation Of [] Is 13\n"
     ]
    }
   ],
   "source": [
    "d = list(input(\"Enter A Binary Number: \"))\n",
    "e = 0\n",
    "for f in range(len(d)):\n",
    "    a = d.pop()\n",
    "    if a == '1':\n",
    "        e = e+pow(2,f)\n",
    "\n",
    "print(\"Decimal Reputation Of\",d,\"Is\",e)"
   ]
  },
  {
   "cell_type": "markdown",
   "metadata": {},
   "source": [
    "# VOWEL AND CONSTANT COUNTER"
   ]
  },
  {
   "cell_type": "code",
   "execution_count": 17,
   "metadata": {},
   "outputs": [
    {
     "name": "stdout",
     "output_type": "stream",
     "text": [
      "Enter Text: BigBrownFoxJumpsOverLazyDog\n",
      "Vowels: 8 \n",
      "Consonants: 19\n"
     ]
    }
   ],
   "source": [
    "a = input(\"Enter Text: \")\n",
    "b = 0;\n",
    "c = 0;\n",
    "for d in a:\n",
    "    if d == 'A' or d == 'a' or d == 'E' or d == 'e' or d == 'I' or d == 'i' or d == 'O' or d == 'o' or d == 'U' or d == 'u':\n",
    "        b+=1\n",
    "    else:\n",
    "        c+=1\n",
    "print(\"Vowels:\",b,\"\\nConsonants:\",c)"
   ]
  },
  {
   "cell_type": "markdown",
   "metadata": {},
   "source": [
    "# PALINDROME TESTER"
   ]
  },
  {
   "cell_type": "code",
   "execution_count": 22,
   "metadata": {},
   "outputs": [
    {
     "name": "stdout",
     "output_type": "stream",
     "text": [
      "Enter Text: AHA\n",
      "Text AHA Is Palindrome\n"
     ]
    }
   ],
   "source": [
    "a = input(\"Enter Text: \")\n",
    "c = a\n",
    "a = a.casefold()\n",
    "b = reversed(a)\n",
    "if list(a) == list(b):\n",
    "    print(\"Text\",c,\"Is Palindrome\")\n",
    "else:\n",
    "    print(\"Text\",c,\"Is Not Palindrome\")\n",
    "    "
   ]
  },
  {
   "cell_type": "markdown",
   "metadata": {},
   "source": [
    "# COUNT NUMBERS, ALPHABETS, SPECIAL CHARACTERS AND SPACES"
   ]
  },
  {
   "cell_type": "code",
   "execution_count": 25,
   "metadata": {},
   "outputs": [
    {
     "name": "stdout",
     "output_type": "stream",
     "text": [
      "Enter Text: Python 3.2\n",
      "Alphabets: 6 \n",
      "Numbers: 2 \n",
      "Spaces: 1 \n",
      "Special Characters: 1\n"
     ]
    }
   ],
   "source": [
    "a = input(\"Enter Text: \")\n",
    "b = c = d = e = 0\n",
    "for f in a:\n",
    "    if f.isalpha():\n",
    "        b+=1\n",
    "    elif f.isdigit():\n",
    "        c+=1\n",
    "    elif f.isspace():\n",
    "        d+=1\n",
    "    else:\n",
    "        e+=1\n",
    "print(\"Alphabets:\",b,\"\\nNumbers:\",c,\"\\nSpaces:\",d,\"\\nSpecial Characters:\",e)"
   ]
  },
  {
   "cell_type": "markdown",
   "metadata": {},
   "source": [
    "# STAR PATTERN"
   ]
  },
  {
   "cell_type": "code",
   "execution_count": 31,
   "metadata": {},
   "outputs": [
    {
     "name": "stdout",
     "output_type": "stream",
     "text": [
      "\n",
      "\n",
      "* \n",
      "\n",
      "* * \n",
      "\n",
      "* * * \n",
      "\n",
      "* * * * \n",
      "\n",
      "* * * * * \n",
      "\n",
      "* * * * \n",
      "\n",
      "* * * \n",
      "\n",
      "* * \n",
      "\n",
      "* \n",
      "\n"
     ]
    }
   ],
   "source": [
    "for a in range(6):\n",
    "    for b in range(a):\n",
    "        print (\"*\", end=\" \") \n",
    "    print(\"\\n\")\n",
    "for a in range(4,0,-1):\n",
    "    for b in range(a):\n",
    "        print (\"*\", end=\" \") \n",
    "    print(\"\\n\")\n",
    "        "
   ]
  },
  {
   "cell_type": "markdown",
   "metadata": {},
   "source": [
    "# NUMBER PATTERN"
   ]
  },
  {
   "cell_type": "code",
   "execution_count": 40,
   "metadata": {},
   "outputs": [
    {
     "name": "stdout",
     "output_type": "stream",
     "text": [
      "1 \n",
      "\n",
      "1 2 \n",
      "\n",
      "1 2 3 \n",
      "\n",
      "1 2 3 4 \n",
      "\n",
      "1 2 3 4 5 \n",
      "\n",
      "1 2 3 4 \n",
      "\n",
      "1 2 3 \n",
      "\n",
      "1 2 \n",
      "\n",
      "1 \n",
      "\n"
     ]
    }
   ],
   "source": [
    "for a in range(1,6):\n",
    "    for b in range(1,a+1):\n",
    "        print(b,end=\" \")\n",
    "    print(\"\\n\")\n",
    "for a in range(5,1,-1):\n",
    "    for b in range(a,1,-1):\n",
    "        print((a+1)-b,end=\" \")\n",
    "    print(\"\\n\")\n"
   ]
  },
  {
   "cell_type": "markdown",
   "metadata": {},
   "source": [
    "# NUMBER PATTERN SECOND PROGRAM"
   ]
  },
  {
   "cell_type": "code",
   "execution_count": 42,
   "metadata": {},
   "outputs": [
    {
     "name": "stdout",
     "output_type": "stream",
     "text": [
      "\n",
      "\n",
      "1 \n",
      "\n",
      "2 2 \n",
      "\n",
      "3 3 3 \n",
      "\n",
      "4 4 4 4 \n",
      "\n",
      "5 5 5 5 5 \n",
      "\n",
      "6 6 6 6 6 6 \n",
      "\n",
      "7 7 7 7 7 7 7 \n",
      "\n",
      "8 8 8 8 8 8 8 8 \n",
      "\n",
      "9 9 9 9 9 9 9 9 9 \n",
      "\n"
     ]
    }
   ],
   "source": [
    "for a in range(10):\n",
    "    for b in range(a):\n",
    "        print(a,end=\" \")\n",
    "    print(\"\\n\")"
   ]
  },
  {
   "cell_type": "code",
   "execution_count": null,
   "metadata": {},
   "outputs": [],
   "source": []
  }
 ],
 "metadata": {
  "kernelspec": {
   "display_name": "Python 3",
   "language": "python",
   "name": "python3"
  },
  "language_info": {
   "codemirror_mode": {
    "name": "ipython",
    "version": 3
   },
   "file_extension": ".py",
   "mimetype": "text/x-python",
   "name": "python",
   "nbconvert_exporter": "python",
   "pygments_lexer": "ipython3",
   "version": "3.7.3"
  }
 },
 "nbformat": 4,
 "nbformat_minor": 2
}
